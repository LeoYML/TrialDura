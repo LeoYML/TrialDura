{
 "cells": [
  {
   "cell_type": "code",
   "execution_count": 1,
   "metadata": {},
   "outputs": [],
   "source": [
    "import numpy as np\n",
    "import pandas as pd\n",
    "from sklearn.metrics import r2_score\n",
    "from scipy.stats import pearsonr\n"
   ]
  },
  {
   "cell_type": "code",
   "execution_count": 2,
   "metadata": {},
   "outputs": [
    {
     "name": "stdout",
     "output_type": "stream",
     "text": [
      "             nctid         start_date     completion_date  time_day    phase  \\\n",
      "0      NCT00000114           May 1984           June 1987      1126  phase 3   \n",
      "1      NCT00000115      December 1990           June 1994      1278  phase 2   \n",
      "2      NCT00000117        August 1995       December 1997       853  phase 3   \n",
      "3      NCT00000122     September 1985           June 1988      1004  phase 3   \n",
      "4      NCT00000125      February 1994           June 2002      3042  phase 3   \n",
      "...            ...                ...                 ...       ...      ...   \n",
      "77810  NCT06188325    January 1, 2018      March 26, 2018        84  phase 1   \n",
      "77811  NCT06188611       May 18, 2017    November 8, 2018       539  phase 4   \n",
      "77812  NCT06190340   November 7, 2016     August 15, 2017       281  phase 1   \n",
      "77813  NCT06193031  November 17, 2015   December 18, 2015        31  phase 1   \n",
      "77814  NCT06193304    August 25, 2014  September 21, 2014        27  phase 1   \n",
      "\n",
      "                                                diseases  \\\n",
      "0                                   retinitis pigmentosa   \n",
      "1                                 macular edema, cystoid   \n",
      "2                                         optic neuritis   \n",
      "3                                               glaucoma   \n",
      "4                           ocular hypertension;glaucoma   \n",
      "...                                                  ...   \n",
      "77810                                  gaucher's disease   \n",
      "77811  a phase iv trial to investigate the efficacy a...   \n",
      "77812                      helicobacter pylori infection   \n",
      "77813                                 healthy volunteers   \n",
      "77814                                  gaucher's disease   \n",
      "\n",
      "                                       drugs  \\\n",
      "0                        vitamin e;vitamin a   \n",
      "1                              acetazolamide   \n",
      "2                             immunoglobulin   \n",
      "3                             5-fluorouracil   \n",
      "4      topical ocular hypotensive eye drops.   \n",
      "...                                      ...   \n",
      "77810                             eliglustat   \n",
      "77811  huazhi rougan granule placebo granule   \n",
      "77812              tnp-2092 capsules;placebo   \n",
      "77813                  c16tr;placebo;tyvaso®   \n",
      "77814                             eliglustat   \n",
      "\n",
      "                                                criteria  \n",
      "0      \\n        Men and nonpregnant women between ag...  \n",
      "1      \\n        Males and females 8 years of age or ...  \n",
      "2      \\n        To be eligible, patients must have a...  \n",
      "3      \\n        Men and women with uncontrolled intr...  \n",
      "4      \\n        Men and nonpregnant women between th...  \n",
      "...                                                  ...  \n",
      "77810  \\n        Inclusion Criteria:\\r\\n\\r\\n         ...  \n",
      "77811  \\n        Inclusion Criteria:\\r\\n\\r\\n         ...  \n",
      "77812  \\n        Inclusion Criteria:\\r\\n\\r\\n         ...  \n",
      "77813  \\n        Inclusion Criteria:\\r\\n\\r\\n         ...  \n",
      "77814  \\n        Inclusion Criteria:\\r\\n\\r\\n        B...  \n",
      "\n",
      "[77815 rows x 8 columns]\n",
      "             nctid         start_date     completion_date  time_day    phase  \\\n",
      "0      NCT00362219       January 2022       December 2023       699  phase 3   \n",
      "1      NCT00610051       October 2023       November 2024       397  phase 3   \n",
      "2      NCT00775476     March 31, 2022    October 31, 2026      1675  phase 2   \n",
      "3      NCT00916201          June 2020           June 2022       730  phase 1   \n",
      "4      NCT00960544       January 2019        January 2021       731  phase 2   \n",
      "...            ...                ...                 ...       ...      ...   \n",
      "36461  NCT06202521         March 2024          March 2025       365  phase 2   \n",
      "36462  NCT06202612   January 15, 2024    January 30, 2024        15  phase 1   \n",
      "36463  NCT06202664   January 15, 2024  September 15, 2024       244  phase 4   \n",
      "36464  NCT06202716       January 2024          April 2026       821  phase 2   \n",
      "36465  NCT06202755  December 12, 2022   February 12, 2024       427  phase 3   \n",
      "\n",
      "                                                diseases  \\\n",
      "0                              skin transplantation;pain   \n",
      "1                                          heart failure   \n",
      "2                           systemic lupus erythematosus   \n",
      "3                                          schizophrenia   \n",
      "4                                          breast cancer   \n",
      "...                                                  ...   \n",
      "36461  community-acquired pneumonia;sars-cov-2 -assoc...   \n",
      "36462                                autoimmune diseases   \n",
      "36463                                          analgesia   \n",
      "36464                                     gastric cancer   \n",
      "36465                                    ischemic stroke   \n",
      "\n",
      "                                                   drugs  \\\n",
      "0                    morphine - .25 mg;morphine;morphine   \n",
      "1                                            alprostadil   \n",
      "2                               n-acetylcysteine;placebo   \n",
      "3               urb597;intranasal insulin;cannabidiol cr   \n",
      "4                                           capecitabine   \n",
      "...                                                  ...   \n",
      "36461  cx-4945 (sars-cov-2 domain);placebo (sars-cov-...   \n",
      "36462  shr0302 quick release tablets;shr0302 sustaine...   \n",
      "36463                                   opioid analgesic   \n",
      "36464               cadonilimab plus capeox chemotherapy   \n",
      "36465                 ticagrelor 90 mg;cilostazol 100 mg   \n",
      "\n",
      "                                                criteria  \n",
      "0      \\n        Inclusion Criteria:\\r\\n\\r\\n         ...  \n",
      "1      \\n        1. Patients older than 18 years of a...  \n",
      "2      \\n        Inclusion Criteria:\\r\\n\\r\\n        A...  \n",
      "3      \\n        Inclusion Criteria:\\r\\n\\r\\n         ...  \n",
      "4      \\n        Inclusion Criteria:\\r\\n\\r\\n         ...  \n",
      "...                                                  ...  \n",
      "36461  \\n        Inclusion Criteria:\\r\\n\\r\\n         ...  \n",
      "36462  \\n        Inclusion Criteria:\\r\\n\\r\\n         ...  \n",
      "36463  \\n        Inclusion Criteria:\\r\\n\\r\\n         ...  \n",
      "36464  \\n        Inclusion Criteria:\\r\\n\\r\\n         ...  \n",
      "36465  \\n        Inclusion Criteria:\\r\\n\\r\\n         ...  \n",
      "\n",
      "[36466 rows x 8 columns]\n"
     ]
    }
   ],
   "source": [
    "input_train = pd.read_csv(\"../data/time_prediction_train.csv\", sep='\\t')\n",
    "input_test = pd.read_csv(\"../data/time_prediction_test.csv\", sep='\\t')\n",
    "\n",
    "print(input_train)\n",
    "print(input_test)"
   ]
  },
  {
   "cell_type": "code",
   "execution_count": 18,
   "metadata": {},
   "outputs": [
    {
     "name": "stdout",
     "output_type": "stream",
     "text": [
      "Train RMSE: 680.018063856449, Train MAE: 524.1655085011198, Train R2: 0.0, Train Pearson Score: nan\n",
      "Test RMSE: 566.3085693851893, Test MAE: 452.72149606869243, Test R2: -0.008992938861065447, Test Pearson Score: nan\n"
     ]
    },
    {
     "name": "stderr",
     "output_type": "stream",
     "text": [
      "/home/lij47/miniconda3/envs/clinical/lib/python3.8/site-packages/scipy/stats/_stats_py.py:4424: ConstantInputWarning: An input array is constant; the correlation coefficient is not defined.\n",
      "  warnings.warn(stats.ConstantInputWarning(msg))\n",
      "/home/lij47/miniconda3/envs/clinical/lib/python3.8/site-packages/scipy/stats/_stats_py.py:4424: ConstantInputWarning: An input array is constant; the correlation coefficient is not defined.\n",
      "  warnings.warn(stats.ConstantInputWarning(msg))\n"
     ]
    }
   ],
   "source": [
    "# get the target column\n",
    "train_target = input_train['time_day']\n",
    "test_target = input_test['time_day']\n",
    "\n",
    "# calculate the average of the target column\n",
    "train_mean = train_target.mean()\n",
    "\n",
    "# Calculate the RMSE, MAE\n",
    "train_rmse = np.sqrt(((train_target - train_mean) ** 2).mean())\n",
    "train_mae = (train_target - train_mean).abs().mean()\n",
    "train_mean_arr = np.full(train_target.shape, train_mean)\n",
    "train_r2 = r2_score(train_target, train_mean_arr)\n",
    "train_pearson_score, _ = pearsonr(train_target, train_mean_arr)\n",
    "\n",
    "train_mean_arr = np.full(test_target.shape, train_mean)\n",
    "test_rmse = np.sqrt(((test_target - train_mean) ** 2).mean())\n",
    "test_mae = (test_target - train_mean).abs().mean()\n",
    "test_r2 = r2_score(test_target, train_mean_arr)\n",
    "test_pearson_score, _ = pearsonr(test_target, train_mean_arr)\n",
    "\n",
    "\n",
    "print(f\"Train RMSE: {train_rmse}, Train MAE: {train_mae}, Train R2: {train_r2}, Train Pearson Score: {train_pearson_score}\")\n",
    "print(f\"Test RMSE: {test_rmse}, Test MAE: {test_mae}, Test R2: {test_r2}, Test Pearson Score: {test_pearson_score}\")"
   ]
  },
  {
   "cell_type": "code",
   "execution_count": 12,
   "metadata": {},
   "outputs": [
    {
     "name": "stdout",
     "output_type": "stream",
     "text": [
      "[797.32142903 797.32142903 797.32142903 797.32142903 797.32142903\n",
      " 797.32142903 797.32142903 797.32142903 797.32142903 797.32142903]\n"
     ]
    }
   ],
   "source": [
    "print(train_mean[:10])"
   ]
  },
  {
   "cell_type": "code",
   "execution_count": null,
   "metadata": {},
   "outputs": [],
   "source": []
  }
 ],
 "metadata": {
  "kernelspec": {
   "display_name": "drug",
   "language": "python",
   "name": "python3"
  },
  "language_info": {
   "codemirror_mode": {
    "name": "ipython",
    "version": 3
   },
   "file_extension": ".py",
   "mimetype": "text/x-python",
   "name": "python",
   "nbconvert_exporter": "python",
   "pygments_lexer": "ipython3",
   "version": "3.8.19"
  }
 },
 "nbformat": 4,
 "nbformat_minor": 2
}
