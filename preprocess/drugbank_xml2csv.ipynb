{
 "cells": [
  {
   "cell_type": "code",
   "execution_count": null,
   "metadata": {},
   "outputs": [],
   "source": [
    "import pandas as pd\n",
    "from xml.etree import ElementTree as ET\n",
    "from tqdm import tqdm \n",
    "import pickle\n",
    "from collections import defaultdict "
   ]
  },
  {
   "cell_type": "code",
   "execution_count": null,
   "metadata": {},
   "outputs": [],
   "source": [
    "xml_file = \"../data/raw/full database.xml\"\n",
    "\n",
    "tree = ET.parse(xml_file)\n",
    "root = tree.getroot()"
   ]
  },
  {
   "cell_type": "code",
   "execution_count": null,
   "metadata": {},
   "outputs": [],
   "source": [
    "ns = '{http://www.drugbank.ca}'\n",
    "\n",
    "drug2smilesL = defaultdict(set)\n",
    "drug2smiles = {}\n",
    "drug_info_list = []\n",
    "\n",
    "for i, drug in tqdm(enumerate(root)):\n",
    "    dbid = drug.findtext(ns + \"drugbank-id[@primary='true']\")\n",
    "    name = drug.findtext(ns + \"name\")\n",
    "    smiles = drug.findtext(f\"{ns}calculated-properties/{ns}property[{ns}kind='SMILES']/{ns}value\")\n",
    "    synonyms_obj = drug.findall(f\"{ns}synonyms/{ns}synonym[@language='english']\")\n",
    "    synonyms = [synonym.text for synonym in synonyms_obj]\n",
    "\n",
    "    if smiles is None:\n",
    "        continue\n",
    "\n",
    "    drug2smilesL[name].add(smiles)\n",
    "    for synonym in synonyms:\n",
    "        drug2smilesL[synonym].add(smiles)\n",
    "\n",
    "    drug_info_list.append([dbid, name, smiles, synonyms])\n",
    "\n",
    "for drug, smiles in drug2smilesL.items():\n",
    "    drug2smiles[drug.lower()] = list(smiles)[0]\n",
    "\n",
    "## Debug\n",
    "# xml_string = ET.tostring(drug, encoding='utf-8').decode('utf-8')\n",
    "# print(xml_string)"
   ]
  },
  {
   "cell_type": "code",
   "execution_count": null,
   "metadata": {},
   "outputs": [],
   "source": [
    "drugsmiles_df = pd.DataFrame(drug_info_list, columns=['dbid', 'name', 'smiles', 'synonyms'])\n",
    "drugsmiles_df.to_csv(\"../data/drugbank_drugsmiles.csv\", index=False, sep='\\t')\n"
   ]
  },
  {
   "cell_type": "code",
   "execution_count": null,
   "metadata": {},
   "outputs": [],
   "source": [
    "pickle.dump(drug2smiles, open(\"../data/drug2smiles.pkl\", 'wb'))\n"
   ]
  },
  {
   "cell_type": "code",
   "execution_count": null,
   "metadata": {},
   "outputs": [],
   "source": [
    "import json\n",
    "\n",
    "json.dump(drug2smiles, open(\"../data/drug2smiles.json\", \"w\"))\n"
   ]
  }
 ],
 "metadata": {
  "kernelspec": {
   "display_name": "base",
   "language": "python",
   "name": "python3"
  },
  "language_info": {
   "codemirror_mode": {
    "name": "ipython",
    "version": 3
   },
   "file_extension": ".py",
   "mimetype": "text/x-python",
   "name": "python",
   "nbconvert_exporter": "python",
   "pygments_lexer": "ipython3",
   "version": "3.8.0"
  }
 },
 "nbformat": 4,
 "nbformat_minor": 2
}
