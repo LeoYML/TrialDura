{
 "cells": [
  {
   "cell_type": "code",
   "execution_count": null,
   "metadata": {},
   "outputs": [],
   "source": [
    "from tqdm import tqdm \n",
    "from xml.etree import ElementTree as ET\n",
    "from datetime import datetime\n",
    "import re\n",
    "import pandas as pd\n",
    "import matplotlib.pyplot as plt\n"
   ]
  },
  {
   "cell_type": "code",
   "execution_count": null,
   "metadata": {},
   "outputs": [],
   "source": [
    "def parse_date(date_str):\n",
    "    try:\n",
    "        output = datetime.strptime(date_str, \"%B %d, %Y\")\n",
    "    except:\n",
    "        try:\n",
    "            output = datetime.strptime(date_str, \"%B %Y\")\n",
    "        except Exception as e:\n",
    "            print(e)\n",
    "            raise e\n",
    "    return output\n",
    "\n",
    "def calculate_duration(start_date, completion_date):\n",
    "    # Unit: days\n",
    "    if start_date and completion_date:\n",
    "        start_date = parse_date(start_date)\n",
    "        completion_date = parse_date(completion_date)\n",
    "        duration = (completion_date - start_date).days\n",
    "    else:\n",
    "        duration = -1\n",
    "\n",
    "    return duration\n",
    "\n",
    "def xmlfile2date(xml_file):\n",
    "    tree = ET.parse(xml_file)\n",
    "    root = tree.getroot()\n",
    "    try:\n",
    "        start_date = root.find('start_date').text\n",
    "    except:\n",
    "        start_date = ''\n",
    "    try:\n",
    "        completion_date = root.find('primary_completion_date').text\n",
    "    except:\n",
    "        try:\n",
    "            completion_date = root.find('completion_date').text \n",
    "        except:\n",
    "            completion_date = ''\n",
    "\n",
    "    return start_date, completion_date\n"
   ]
  },
  {
   "cell_type": "code",
   "execution_count": null,
   "metadata": {},
   "outputs": [],
   "source": [
    "date_list = []\n",
    "\n",
    "# 480403 lines\n",
    "with open(\"../data/trials/all_xml.txt\", \"r\") as file:\n",
    "    for xml_path in tqdm(file):\n",
    "        xml_path = f\"../data/{xml_path.strip()}\"\n",
    "        \n",
    "        # NCT00000150 <- raw_data/NCT0000xxxx/NCT00000150.xml\n",
    "        nct_id = re.search(r\"/([^/]+)\\.xml$\", xml_path).group(1)\n",
    "        \n",
    "        start_date, completion_date = xmlfile2date(xml_path)\n",
    "\n",
    "        if start_date and completion_date:\n",
    "            duration = calculate_duration(start_date, completion_date)\n",
    "        else:\n",
    "            duration = -1\n",
    "\n",
    "        date_list.append((nct_id, start_date, completion_date, duration))\n"
   ]
  },
  {
   "cell_type": "code",
   "execution_count": null,
   "metadata": {},
   "outputs": [],
   "source": [
    "# 478505 lines\n",
    "date_df = pd.DataFrame(date_list, columns=['ntcid', 'start_date', 'completion_date', 'time_day'])\n",
    "print(date_df)\n",
    "\n",
    "# date_df.to_csv('data/ntcid_time_all.csv', index=False, sep='\\t')"
   ]
  },
  {
   "cell_type": "code",
   "execution_count": null,
   "metadata": {},
   "outputs": [],
   "source": [
    "# Filter out unusable time data.\n",
    "# 465251 lines\n",
    "date_df = date_df[date_df['time_day'] > 0]\n",
    "date_df.to_csv('../data/ntcid_time.csv', index=False, sep='\\t')"
   ]
  },
  {
   "cell_type": "code",
   "execution_count": null,
   "metadata": {},
   "outputs": [],
   "source": [
    "# Analysis\n",
    "medium_time_day = date_df['time_day'].median()\n",
    "average_time_day = date_df['time_day'].mean()\n",
    "minimum_time_day = date_df['time_day'].min()\n",
    "maximum_time_day = date_df['time_day'].max()\n",
    "std_time_day = date_df['time_day'].std()\n",
    "\n",
    "print(\"Medium time_day:\", medium_time_day)\n",
    "print(\"Average time_day:\", average_time_day)\n",
    "print(\"Minimum time_day:\", minimum_time_day)\n",
    "print(\"Maximum time_day:\", maximum_time_day)\n",
    "print(\"Standard Deviation of time_day:\", std_time_day)\n"
   ]
  },
  {
   "cell_type": "code",
   "execution_count": null,
   "metadata": {},
   "outputs": [],
   "source": [
    "date_df['month'] = date_df['time_day'] // 30\n",
    "frequency_month = date_df['month'].value_counts().sort_index().reset_index()\n",
    "print(frequency_month)"
   ]
  },
  {
   "cell_type": "code",
   "execution_count": null,
   "metadata": {},
   "outputs": [],
   "source": [
    "plot_data = frequency_month[frequency_month['month'] <= 72]\n",
    "\n",
    "plt.figure(figsize=(10, 6))\n",
    "\n",
    "plt.scatter(plot_data['month'], plot_data['count'], s=10, c='blue')\n",
    "\n",
    "plt.xlabel('Month')\n",
    "plt.ylabel('Frequency')\n",
    "plt.title('Frequency of Months (Limited to 72)')\n",
    "plt.grid(True)  # Add grid\n",
    "\n",
    "plt.show()"
   ]
  },
  {
   "cell_type": "code",
   "execution_count": null,
   "metadata": {},
   "outputs": [],
   "source": []
  }
 ],
 "metadata": {
  "kernelspec": {
   "display_name": "base",
   "language": "python",
   "name": "python3"
  },
  "language_info": {
   "codemirror_mode": {
    "name": "ipython",
    "version": 3
   },
   "file_extension": ".py",
   "mimetype": "text/x-python",
   "name": "python",
   "nbconvert_exporter": "python",
   "pygments_lexer": "ipython3",
   "version": "3.8.18"
  }
 },
 "nbformat": 4,
 "nbformat_minor": 2
}
